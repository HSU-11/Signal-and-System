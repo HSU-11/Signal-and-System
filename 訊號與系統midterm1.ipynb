{
  "nbformat": 4,
  "nbformat_minor": 0,
  "metadata": {
    "colab": {
      "name": "訊號與系統midterm1.ipynb",
      "provenance": [],
      "collapsed_sections": [],
      "authorship_tag": "ABX9TyNddA2AYPIZHQr59Hmw25+Z",
      "include_colab_link": true
    },
    "kernelspec": {
      "name": "python3",
      "display_name": "Python 3"
    }
  },
  "cells": [
    {
      "cell_type": "markdown",
      "metadata": {
        "id": "view-in-github",
        "colab_type": "text"
      },
      "source": [
        "<a href=\"https://colab.research.google.com/github/HSU-11/Signal-and-System/blob/master/%E8%A8%8A%E8%99%9F%E8%88%87%E7%B3%BB%E7%B5%B1midterm1.ipynb\" target=\"_parent\"><img src=\"https://colab.research.google.com/assets/colab-badge.svg\" alt=\"Open In Colab\"/></a>"
      ]
    },
    {
      "cell_type": "code",
      "metadata": {
        "id": "Lorxc8k1JsO9",
        "colab_type": "code",
        "outputId": "4e2fea85-731b-42eb-d0a8-0188f13e1f73",
        "colab": {
          "base_uri": "https://localhost:8080/",
          "height": 391
        }
      },
      "source": [
        "!wget \"https://raw.githubusercontent.com/AllenDowney/ThinkDSP/master/code/thinkdsp.py\"\n",
        "!wget \"https://raw.githubusercontent.com/AllenDowney/ThinkDSP/master/code/thinkplot.py\""
      ],
      "execution_count": 0,
      "outputs": [
        {
          "output_type": "stream",
          "text": [
            "--2020-05-05 05:26:03--  https://raw.githubusercontent.com/AllenDowney/ThinkDSP/master/code/thinkdsp.py\n",
            "Resolving raw.githubusercontent.com (raw.githubusercontent.com)... 151.101.0.133, 151.101.64.133, 151.101.128.133, ...\n",
            "Connecting to raw.githubusercontent.com (raw.githubusercontent.com)|151.101.0.133|:443... connected.\n",
            "HTTP request sent, awaiting response... 200 OK\n",
            "Length: 48075 (47K) [text/plain]\n",
            "Saving to: ‘thinkdsp.py.2’\n",
            "\n",
            "\rthinkdsp.py.2         0%[                    ]       0  --.-KB/s               \rthinkdsp.py.2       100%[===================>]  46.95K  --.-KB/s    in 0.02s   \n",
            "\n",
            "2020-05-05 05:26:03 (1.85 MB/s) - ‘thinkdsp.py.2’ saved [48075/48075]\n",
            "\n",
            "--2020-05-05 05:26:05--  https://raw.githubusercontent.com/AllenDowney/ThinkDSP/master/code/thinkplot.py\n",
            "Resolving raw.githubusercontent.com (raw.githubusercontent.com)... 151.101.0.133, 151.101.64.133, 151.101.128.133, ...\n",
            "Connecting to raw.githubusercontent.com (raw.githubusercontent.com)|151.101.0.133|:443... connected.\n",
            "HTTP request sent, awaiting response... 200 OK\n",
            "Length: 22756 (22K) [text/plain]\n",
            "Saving to: ‘thinkplot.py.1’\n",
            "\n",
            "thinkplot.py.1      100%[===================>]  22.22K  --.-KB/s    in 0.01s   \n",
            "\n",
            "2020-05-05 05:26:06 (1.77 MB/s) - ‘thinkplot.py.1’ saved [22756/22756]\n",
            "\n"
          ],
          "name": "stdout"
        }
      ]
    },
    {
      "cell_type": "code",
      "metadata": {
        "id": "CbKe-iBTNW13",
        "colab_type": "code",
        "colab": {}
      },
      "source": [
        "from __future__ import print_function, division\n",
        "\n",
        "%matplotlib inline\n",
        "\n",
        "import thinkdsp\n",
        "import thinkplot\n",
        "import numpy as np\n",
        "\n",
        "from ipywidgets import interact, interactive, fixed\n",
        "import ipywidgets as widgets"
      ],
      "execution_count": 0,
      "outputs": []
    },
    {
      "cell_type": "code",
      "metadata": {
        "id": "wDpMu1bCN-Df",
        "colab_type": "code",
        "colab": {}
      },
      "source": [
        "class EdTrombone(thinkdsp.Chirp):\n",
        "    \n",
        "    def _evaluate(self, ts):\n",
        "\n",
        "        l1 = 1.0 / self.start\n",
        "        l2 = 1.0 / self.end\n",
        "        lengths = np.linspace(l1, l2, len(ts)-1)\n",
        "        freqs = 1 / lengths\n",
        "        return self._evaluate(ts, freqs)"
      ],
      "execution_count": 0,
      "outputs": []
    },
    {
      "cell_type": "code",
      "metadata": {
        "id": "EaoAnxBEWkgl",
        "colab_type": "code",
        "colab": {}
      },
      "source": [
        "def plot_spectrogram(wave, seg_length):\n",
        "    spectrogram = wave.make_spectrogram(seg_length)\n",
        "    print('Time resolution (s)', spectrogram.time_res)\n",
        "    print('Frequency resolution (Hz)', spectrogram.freq_res)\n",
        "    spectrogram.plot(high=700)\n",
        "    thinkplot.show(xlabel='Time(s)', ylabel='Frequency (Hz)')"
      ],
      "execution_count": 0,
      "outputs": []
    },
    {
      "cell_type": "code",
      "metadata": {
        "id": "ZVjkQkfqSbA7",
        "colab_type": "code",
        "outputId": "b9f25da5-b9f7-45f5-9450-50d458288f03",
        "colab": {
          "base_uri": "https://localhost:8080/",
          "height": 265
        }
      },
      "source": [
        "low=  220 \n",
        "high= 440 \n",
        "signal = EdTrombone(low, high)\n",
        "wave = signal.make_wave(duration=1)\n",
        "wave.apodize()\n",
        "wave.plot()"
      ],
      "execution_count": 0,
      "outputs": [
        {
          "output_type": "display_data",
          "data": {
            "image/png": "[encoded data removed]",
            "text/plain": [
              "<Figure size 432x288 with 1 Axes>"
            ]
          },
          "metadata": {
            "tags": [],
            "needs_background": "light"
          }
        }
      ]
    },
    {
      "cell_type": "code",
      "metadata": {
        "id": "4snox44FW467",
        "colab_type": "code",
        "outputId": "25bde402-a03e-4dcb-8fb6-c697013b9599",
        "colab": {
          "base_uri": "https://localhost:8080/",
          "height": 330
        }
      },
      "source": [
        "wave = signal.make_wave(duration=1, framerate=11025)\n",
        "plot_spectrogram(wave, 512)"
      ],
      "execution_count": 0,
      "outputs": [
        {
          "output_type": "stream",
          "text": [
            "Time resolution (s) 0.046439909297052155\n",
            "Frequency resolution (Hz) 21.533203125\n"
          ],
          "name": "stdout"
        },
        {
          "output_type": "display_data",
          "data": {
            "image/png": "[encoded data removed]",
            "text/plain": [
              "<Figure size 432x288 with 1 Axes>"
            ]
          },
          "metadata": {
            "tags": [],
            "needs_background": "light"
          }
        },
        {
          "output_type": "display_data",
          "data": {
            "text/plain": [
              "<Figure size 576x432 with 0 Axes>"
            ]
          },
          "metadata": {
            "tags": []
          }
        }
      ]
    }
  ]
}